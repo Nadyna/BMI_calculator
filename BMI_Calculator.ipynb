{
 "cells": [
  {
   "cell_type": "code",
   "execution_count": 34,
   "id": "ba60dc97",
   "metadata": {},
   "outputs": [
    {
     "name": "stdout",
     "output_type": "stream",
     "text": [
      "Enter your weight in pounds: 2\n",
      "Enter your height in inches: 1\n",
      "BMI = 1406.0\n",
      "Please enter valid inputs\n"
     ]
    }
   ],
   "source": [
    "weight = int(input(\"Enter your weight in pounds: \"))\n",
    "height = int(input(\"Enter your height in inches: \"))\n",
    "BMI = (weight * 703) / (height * height)\n",
    "BMI = round(BMI, 1)\n",
    "print(\"BMI = \" + str(BMI))\n",
    "\n",
    "if BMI>0 and BMI<200:\n",
    "    if (BMI<=18.5):\n",
    "        print(\"Your BMI is in the range: \" + \"'Underweight'\")\n",
    "    elif (BMI<=24.9):\n",
    "        print(\"Your BMI is in the range: \" + \"'Normal weight'\")\n",
    "    elif (BMI<=29.9):\n",
    "        print(\"Your BMI is in the range: \" + \"'Overweight'\")\n",
    "    elif (BMI<=34.9):\n",
    "        print(\"Your BMI is in the range: \" + \"'Obese'\")\n",
    "    elif (BMI<=39.9):\n",
    "        print(\"Your BMI is in the range: \" + \"'Severely Obese'\")\n",
    "    elif (BMI>=40):\n",
    "        print(\"Your BMI is in the range: \" + \"'Morbidly Obese'\")\n",
    "else:\n",
    "    print(\"Please enter valid inputs\")"
   ]
  },
  {
   "cell_type": "code",
   "execution_count": 27,
   "id": "bbfbbe5d",
   "metadata": {},
   "outputs": [
    {
     "data": {
      "text/plain": [
       "float"
      ]
     },
     "execution_count": 27,
     "metadata": {},
     "output_type": "execute_result"
    }
   ],
   "source": [
    "type(BMI)"
   ]
  },
  {
   "cell_type": "code",
   "execution_count": null,
   "id": "bae36075",
   "metadata": {},
   "outputs": [],
   "source": []
  },
  {
   "cell_type": "markdown",
   "id": "e55709ed",
   "metadata": {},
   "source": [
    "BMI formula USC Units:"
   ]
  },
  {
   "cell_type": "code",
   "execution_count": null,
   "id": "a1a10d77",
   "metadata": {},
   "outputs": [],
   "source": [
    "#BMI = (weight in pounds x 703) / (height in inches x height in inches)"
   ]
  },
  {
   "cell_type": "code",
   "execution_count": null,
   "id": "8a2b0d3c",
   "metadata": {},
   "outputs": [],
   "source": []
  },
  {
   "cell_type": "code",
   "execution_count": null,
   "id": "1f7d47f0",
   "metadata": {},
   "outputs": [],
   "source": [
    "Severe Thinness\t< 16\t< 0.64\n",
    "Moderate Thinness\t16 - 17\t0.64 - 0.68\n",
    "Mild Thinness\t17 - 18.5\t0.68 - 0.74\n",
    "Normal\t18.5 - 25\t0.74 - 1\n",
    "Overweight\t25 - 30\t1 - 1.2\n",
    "Obese Class I\t30 - 35\t1.2- 1.4\n",
    "Obese Class II\t35 - 40\t1.4 - 1.6\n",
    "Obese Class III\t> 40\t> 1.6"
   ]
  },
  {
   "cell_type": "markdown",
   "id": "ce5bff73",
   "metadata": {},
   "source": [
    "The heaviest person in history has weight of 635 kg, height 185 cm at the age of 35. He reached a peak body mass index (BMI) of 186 kg/m2. The max in history is 186, but there are some possibilities, so we will leave some space for new record at 200 BMI max."
   ]
  },
  {
   "cell_type": "markdown",
   "id": "08e802ad",
   "metadata": {},
   "source": [
    "BMI formula SI, Metric Units:"
   ]
  },
  {
   "cell_type": "code",
   "execution_count": null,
   "id": "3df676f0",
   "metadata": {},
   "outputs": [],
   "source": [
    "#BMI = mass (kg)/height2 (m)"
   ]
  },
  {
   "cell_type": "code",
   "execution_count": 1,
   "id": "7995f9f6",
   "metadata": {},
   "outputs": [
    {
     "name": "stdout",
     "output_type": "stream",
     "text": [
      "Enter your height in centimeters: 160\n",
      "Enter your weight in kilograms: 53\n",
      "BMI = 20.7\n",
      "Your BMI is in the range: 'Normal weight'\n"
     ]
    }
   ],
   "source": [
    "height = (int(input(\"Enter your height in centimeters: \")))/100\n",
    "weight = int(input(\"Enter your weight in kilograms: \"))\n",
    "BMI = weight / (height**2)\n",
    "BMI = round(BMI, 1)\n",
    "print(\"BMI = \" + str(BMI))\n",
    "\n",
    "if BMI>0 and BMI<200:\n",
    "    if (BMI<=18.5):\n",
    "        print(\"Your BMI is in the range: \" + \"'Underweight'\")\n",
    "    elif (BMI<=24.9):\n",
    "        print(\"Your BMI is in the range: \" + \"'Normal weight'\")\n",
    "    elif (BMI<=29.9):\n",
    "        print(\"Your BMI is in the range: \" + \"'Overweight'\")\n",
    "    elif (BMI<=34.9):\n",
    "        print(\"Your BMI is in the range: \" + \"'Obese'\")\n",
    "    elif (BMI<=39.9):\n",
    "        print(\"Your BMI is in the range: \" + \"'Severely Obese'\")\n",
    "    elif (BMI>=40):\n",
    "        print(\"Your BMI is in the range: \" + \"'Morbidly Obese'\")\n",
    "else:\n",
    "    print(\"Please enter valid inputs\")"
   ]
  },
  {
   "cell_type": "code",
   "execution_count": null,
   "id": "48ca1db0",
   "metadata": {},
   "outputs": [],
   "source": []
  }
 ],
 "metadata": {
  "kernelspec": {
   "display_name": "Python 3 (ipykernel)",
   "language": "python",
   "name": "python3"
  },
  "language_info": {
   "codemirror_mode": {
    "name": "ipython",
    "version": 3
   },
   "file_extension": ".py",
   "mimetype": "text/x-python",
   "name": "python",
   "nbconvert_exporter": "python",
   "pygments_lexer": "ipython3",
   "version": "3.11.7"
  }
 },
 "nbformat": 4,
 "nbformat_minor": 5
}
